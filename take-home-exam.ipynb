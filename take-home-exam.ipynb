{
 "cells": [
  {
   "cell_type": "markdown",
   "metadata": {},
   "source": [
    "# Take Home Exam Empirical Industrial Organization"
   ]
  },
  {
   "cell_type": "markdown",
   "metadata": {},
   "source": [
    "Please send your solutions to afniedermayer@gmail.com by March 21. Please make sure your Jupyter Notebook has the filename take-home-exam-LASTNAME-FIRSTNAME.ipynb. Provide all answers in this notebook. You can write the answers to the theoretical questions in Markdown Cells [1] right after the questions and equations in LaTeX [2], [3]. (In case you struggle with writing the equations in LaTeX, please send hand-written scanned in notes for the theoretical results.)\n",
    "\n",
    "Rules for the take-home exam:\n",
    "- You are not allowed to work together or ask others for help.\n",
    "- You can check books and course material.\n",
    "\n",
    "The exam consists of four parts: theory, data processing, structural estimation and counterfactuals.\n",
    "\n",
    "[1] https://jupyter-notebook.readthedocs.io/en/stable/examples/Notebook/Working%20With%20Markdown%20Cells.html\n",
    "\n",
    "[2] https://jupyter-notebook.readthedocs.io/en/stable/examples/Notebook/Working%20With%20Markdown%20Cells.html#LaTeX-equations\n",
    "\n",
    "[3] https://en.wikipedia.org/wiki/LaTeX\n"
   ]
  },
  {
   "cell_type": "markdown",
   "metadata": {},
   "source": [
    "# Theory"
   ]
  },
  {
   "cell_type": "markdown",
   "metadata": {},
   "source": [
    "Consider first-price sealed-bid procurement auctions. These are similar to the standard first-price sealed-bid auctions discussed in class, with one difference: there is a buyer running the auction and multiple sellers submitting sealed bids. The seller with the lowest bid wins the auction and sells the good to the buyer. The price paid is the bid by the winning seller.\n",
    "\n",
    "Formally, each seller has a cost $c_i$. $c_i$ is private information: each seller knows his own cost, but not that of the others. Costs $c_i$ are i.i.d. draws from a distribution $F$. $F$ is common knowledge and has support $[\\underline c, \\overline c]$.\n",
    "\n",
    "Define $c_{-i}:=\\min_{j\\neq i} c_j$. Denote the distribution of $c_{-i}$ as $G$.\n",
    "\n",
    "Denote the bid a seller submits as $b_i$. A seller's profit is $(b_i-c_i)\\text{Prob}(b_i\\leq \\min_{j\\neq i} b_j)$."
   ]
  },
  {
   "cell_type": "markdown",
   "metadata": {},
   "source": [
    "### Question 1\n",
    "(a) Derive the first-order condition for a seller's maximization problem. Derive also the equilibrium bidding strategy $\\beta(c)$ for a seller with cost $c$. You only need to consider symmetric equilibria. \n",
    "\n",
    "(b) How does the bidding function in a procurement auction $\\beta$ differ from the bidding function in a standard auction? Please provide an intuition for how they differ."
   ]
  },
  {
   "cell_type": "markdown",
   "metadata": {},
   "source": [
    "*Answer:*\n",
    "\n"
   ]
  },
  {
   "cell_type": "markdown",
   "metadata": {},
   "source": [
    "### Question 2\n",
    "Consider the  Guerre-Perrigne-Vuong estimator for standard auctions from your homework assignment. Adjust it to procurement auctions. In particular, write down the equation mapping bids $b_i$ to pseudo-costs $\\hat c_i$. (Pseudo-costs are the costs inferred from bids, analogous to the pseudo-valuations from standard auctions.)\n",
    "\n",
    "*Hint*: Write down a seller's profit maximization problem in terms of $H$, the equilibrium distribution of bids. Use the first-order condition to back out pseudo-costs from bids."
   ]
  },
  {
   "cell_type": "markdown",
   "metadata": {},
   "source": [
    "*Answer:*\n",
    "\n"
   ]
  },
  {
   "cell_type": "markdown",
   "metadata": {},
   "source": [
    "### Question 3\n",
    "Now consider the buyer's expense minimization problem. Assume the buyer has a valuation $v$ in case the good is delivered to her. Her net utility is $v-\\min_i b_i$ if she buys the good. Normalize her utility to 0 if she does not buy the good.\n",
    "\n",
    "You are consulting the buyer how to maximize her utility by choosing a reserve price $r$. In a procurement auction, the auction is canceled in case no seller bids below $r$. Derive the first-order condition for optimal reserve $r$ of the buyer. Assume that the hazard rate $F(x)/f(x)$ is increasing and show that the second-order condition is satisfied under this assumption.\n",
    "\n",
    "*Hint 1*: You don't have to derive the equilibrium bidding strategies of a first-price procurement auction with a reserve price. It's much simpler to use revenue equivalence and consider a second-price auction, the optimal reserve price for a first-price auction is the same as for a second-price auction. In the context of a procurement auctions, a second-price auction is the following: the seller with the lowest bid wins the auction and is paid the second lowest bid. If there is a reserve price, the lowest bidder is paid the second lowest bid or the reserve price, whichever is lower. Formally, if seller $i$ wins the auction, he receives the payment $\\min\\{r, \\min_{i\\neq j} b_j\\}$.\n",
    "\n",
    "*Hint 2*: The optimal reserve price in a second-price procurement auction is the same irrespective of the number of sellers. So it's simpler to derive the optimal reserve for one seller."
   ]
  },
  {
   "cell_type": "markdown",
   "metadata": {},
   "source": [
    "*Answer:*\n",
    "\n"
   ]
  },
  {
   "cell_type": "markdown",
   "metadata": {},
   "source": [
    "## Data"
   ]
  },
  {
   "cell_type": "markdown",
   "metadata": {},
   "source": [
    "Load the first-price procurement auction data provided for the exam."
   ]
  },
  {
   "cell_type": "code",
   "execution_count": 1,
   "metadata": {},
   "outputs": [],
   "source": [
    "import pandas as pd"
   ]
  },
  {
   "cell_type": "code",
   "execution_count": 2,
   "metadata": {},
   "outputs": [
    {
     "data": {
      "text/html": [
       "<div>\n",
       "<style scoped>\n",
       "    .dataframe tbody tr th:only-of-type {\n",
       "        vertical-align: middle;\n",
       "    }\n",
       "\n",
       "    .dataframe tbody tr th {\n",
       "        vertical-align: top;\n",
       "    }\n",
       "\n",
       "    .dataframe thead th {\n",
       "        text-align: right;\n",
       "    }\n",
       "</style>\n",
       "<table border=\"1\" class=\"dataframe\">\n",
       "  <thead>\n",
       "    <tr style=\"text-align: right;\">\n",
       "      <th></th>\n",
       "      <th>bid1</th>\n",
       "      <th>bid2</th>\n",
       "      <th>bid3</th>\n",
       "    </tr>\n",
       "  </thead>\n",
       "  <tbody>\n",
       "    <tr>\n",
       "      <th>0</th>\n",
       "      <td>72.218111</td>\n",
       "      <td>58.290921</td>\n",
       "      <td>68.434822</td>\n",
       "    </tr>\n",
       "    <tr>\n",
       "      <th>1</th>\n",
       "      <td>50.608832</td>\n",
       "      <td>144.793057</td>\n",
       "      <td>144.275250</td>\n",
       "    </tr>\n",
       "    <tr>\n",
       "      <th>2</th>\n",
       "      <td>93.164961</td>\n",
       "      <td>74.208361</td>\n",
       "      <td>60.595576</td>\n",
       "    </tr>\n",
       "    <tr>\n",
       "      <th>3</th>\n",
       "      <td>97.951366</td>\n",
       "      <td>143.285171</td>\n",
       "      <td>100.395396</td>\n",
       "    </tr>\n",
       "    <tr>\n",
       "      <th>4</th>\n",
       "      <td>414.215884</td>\n",
       "      <td>87.562804</td>\n",
       "      <td>162.054999</td>\n",
       "    </tr>\n",
       "    <tr>\n",
       "      <th>...</th>\n",
       "      <td>...</td>\n",
       "      <td>...</td>\n",
       "      <td>...</td>\n",
       "    </tr>\n",
       "    <tr>\n",
       "      <th>4846</th>\n",
       "      <td>43.902681</td>\n",
       "      <td>136.307685</td>\n",
       "      <td>56.924085</td>\n",
       "    </tr>\n",
       "    <tr>\n",
       "      <th>4847</th>\n",
       "      <td>70.579638</td>\n",
       "      <td>75.430505</td>\n",
       "      <td>64.035210</td>\n",
       "    </tr>\n",
       "    <tr>\n",
       "      <th>4848</th>\n",
       "      <td>62.385236</td>\n",
       "      <td>69.759705</td>\n",
       "      <td>169.438744</td>\n",
       "    </tr>\n",
       "    <tr>\n",
       "      <th>4849</th>\n",
       "      <td>153.777927</td>\n",
       "      <td>55.495125</td>\n",
       "      <td>64.428017</td>\n",
       "    </tr>\n",
       "    <tr>\n",
       "      <th>4850</th>\n",
       "      <td>73.052862</td>\n",
       "      <td>117.805175</td>\n",
       "      <td>81.422480</td>\n",
       "    </tr>\n",
       "  </tbody>\n",
       "</table>\n",
       "<p>4851 rows × 3 columns</p>\n",
       "</div>"
      ],
      "text/plain": [
       "            bid1        bid2        bid3\n",
       "0      72.218111   58.290921   68.434822\n",
       "1      50.608832  144.793057  144.275250\n",
       "2      93.164961   74.208361   60.595576\n",
       "3      97.951366  143.285171  100.395396\n",
       "4     414.215884   87.562804  162.054999\n",
       "...          ...         ...         ...\n",
       "4846   43.902681  136.307685   56.924085\n",
       "4847   70.579638   75.430505   64.035210\n",
       "4848   62.385236   69.759705  169.438744\n",
       "4849  153.777927   55.495125   64.428017\n",
       "4850   73.052862  117.805175   81.422480\n",
       "\n",
       "[4851 rows x 3 columns]"
      ]
     },
     "execution_count": 2,
     "metadata": {},
     "output_type": "execute_result"
    }
   ],
   "source": [
    "# download and read data\n",
    "df = pd.read_csv('https://raw.githubusercontent.com/afniedermayer/empiricalio2022cergy/master/procurement_auction.csv')\n",
    "\n",
    "## alternatively, you can download the file yourself and read it locally\n",
    "#df = pd.read_csv('procurement_auction.csv')\n",
    "\n",
    "df"
   ]
  },
  {
   "cell_type": "markdown",
   "metadata": {},
   "source": [
    "### Question 4\n",
    "(a) Plot histograms of the bids of all three bidders. \n",
    "\n",
    "(b) Compute the average expense of the buyer per auction and the total expense in all auctions."
   ]
  },
  {
   "cell_type": "code",
   "execution_count": null,
   "metadata": {},
   "outputs": [],
   "source": [
    "# (a)\n"
   ]
  },
  {
   "cell_type": "code",
   "execution_count": null,
   "metadata": {},
   "outputs": [],
   "source": [
    "# (b)\n"
   ]
  },
  {
   "cell_type": "markdown",
   "metadata": {},
   "source": [
    "### Question 5\n",
    "Compute the kernel density estimator of bids and the empirical cdf of bids. Plot the estimated densities and cdfs."
   ]
  },
  {
   "cell_type": "code",
   "execution_count": null,
   "metadata": {},
   "outputs": [],
   "source": []
  },
  {
   "cell_type": "markdown",
   "metadata": {},
   "source": [
    "## Structural Estimation"
   ]
  },
  {
   "cell_type": "markdown",
   "metadata": {},
   "source": [
    "### Question 6\n",
    "Compute the pseudo-costs for each bid using the Guerre-Perrigne-Vuong estimator adjusted for procurement auctions. Compute kernel density estimator and the empirical cdf of the pseudo-costs for all three bidders and plot them."
   ]
  },
  {
   "cell_type": "code",
   "execution_count": null,
   "metadata": {},
   "outputs": [],
   "source": []
  },
  {
   "cell_type": "markdown",
   "metadata": {},
   "source": [
    "### Question 7\n",
    "Plot a histogram of the relative markups $(b_i-c_i)/b_i$ of bidders."
   ]
  },
  {
   "cell_type": "code",
   "execution_count": null,
   "metadata": {},
   "outputs": [],
   "source": []
  },
  {
   "cell_type": "markdown",
   "metadata": {},
   "source": [
    "## Counterfactuals"
   ]
  },
  {
   "cell_type": "markdown",
   "metadata": {},
   "source": [
    "### Question 8\n",
    "What would be the winning bid in each auction if sellers were to bid their costs without a markup? Compute the average expense of the buyer per auction and the total expenses in all auction. Use the estimated pseudo-costs from the auctions in the dataset."
   ]
  },
  {
   "cell_type": "code",
   "execution_count": null,
   "metadata": {},
   "outputs": [],
   "source": []
  },
  {
   "cell_type": "markdown",
   "metadata": {},
   "source": [
    "### Question 9\n",
    "What would be the bids and the price paid to the winning seller if the auction were a second-price auction? Use the realization of the pseudo-costs that you estimated to generate the counterfactual second-price auctions. \n",
    "\n",
    "(a) Plot a histogram of the prices paid in the counterfactual second-price auctions. Compare it with a histogram of the bid distribution in the data. \n",
    "\n",
    "(b) Compare the buyer's average expenses in the counterfactual second-price auction with the buyer's average expenses in the actual first-price auction."
   ]
  },
  {
   "cell_type": "code",
   "execution_count": null,
   "metadata": {},
   "outputs": [],
   "source": [
    "# (a)\n"
   ]
  },
  {
   "cell_type": "code",
   "execution_count": null,
   "metadata": {},
   "outputs": [],
   "source": [
    "# (b)\n"
   ]
  },
  {
   "cell_type": "markdown",
   "metadata": {},
   "source": [
    "### Question 10\n",
    "Assume that the buyer's valuation is $v=100$. Compute the optimal reserve price $r^*$.\n",
    "\n",
    "*Hint*: Recall from the theory part that the optimal reserve price is the same for a second-price auction and a first-price auction. Also recall that the optimal reserve price in a second-price auction does not depend on the number of bidders."
   ]
  },
  {
   "cell_type": "code",
   "execution_count": null,
   "metadata": {},
   "outputs": [],
   "source": []
  },
  {
   "cell_type": "markdown",
   "metadata": {},
   "source": [
    "### Question 11\n",
    "The following questions pertain to running the auction with the optimal reserve price $r^*$. Consider a counterfactual in which the pseudo-costs remain the pseudo-costs you estimated for the dataset, but the auction format changes.\n",
    "\n",
    "(a) Compute the buyer's average utility $v-\\min_{j\\neq i} b_j$ (where $i$ is the winning bidder) per auction if there is no reserve price in a second-price auction. \n",
    "\n",
    "(b) Also compute the buyer's average utility $v-\\min\\{r,\\min_{j\\neq i} b_j\\}$ in a second-price auction with the optimal reserve $r^*$. Normalize the buyer's utility to 0 if the auction is canceled.\n",
    "\n",
    "(c) What fraction of auctions is canceled (i.e. all bids are above the reserve price) in a second-price auction with the reserve price $r^*$?"
   ]
  },
  {
   "cell_type": "code",
   "execution_count": 3,
   "metadata": {},
   "outputs": [],
   "source": [
    "# (a)\n"
   ]
  },
  {
   "cell_type": "code",
   "execution_count": 4,
   "metadata": {},
   "outputs": [],
   "source": [
    "# (b)\n"
   ]
  },
  {
   "cell_type": "code",
   "execution_count": 5,
   "metadata": {},
   "outputs": [],
   "source": [
    "# (c)\n"
   ]
  }
 ],
 "metadata": {
  "kernelspec": {
   "display_name": "Python 3",
   "language": "python",
   "name": "python3"
  },
  "language_info": {
   "codemirror_mode": {
    "name": "ipython",
    "version": 3
   },
   "file_extension": ".py",
   "mimetype": "text/x-python",
   "name": "python",
   "nbconvert_exporter": "python",
   "pygments_lexer": "ipython3",
   "version": "3.8.8"
  }
 },
 "nbformat": 4,
 "nbformat_minor": 4
}
