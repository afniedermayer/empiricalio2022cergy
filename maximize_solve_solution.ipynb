{
 "cells": [
  {
   "cell_type": "markdown",
   "metadata": {},
   "source": [
    "# Computational Techniques in Python"
   ]
  },
  {
   "cell_type": "code",
   "execution_count": 1,
   "metadata": {},
   "outputs": [
    {
     "name": "stderr",
     "output_type": "stream",
     "text": [
      "Matplotlib is building the font cache; this may take a moment.\n"
     ]
    }
   ],
   "source": [
    "import numpy as np\n",
    "import matplotlib.pyplot as plt\n",
    "import scipy\n",
    "import scipy.interpolate\n",
    "import scipy.optimize\n",
    "%matplotlib inline"
   ]
  },
  {
   "cell_type": "markdown",
   "metadata": {},
   "source": [
    "Consider a monopolist's problem to maximize its profits\n",
    "$$\n",
    "\\max_p (p-c)D(p)\n",
    "$$\n",
    "Assume the monopolist only knows the demand function at a finite number of points and needs to interpolation between these points to be able to solve the maximization problem.\n",
    "\n",
    "The monopolist knows\n",
    "$$\n",
    "d_i = D(p_i)\n",
    "$$\n",
    "for points $i=1,...,N$."
   ]
  },
  {
   "cell_type": "markdown",
   "metadata": {},
   "source": [
    "## Interpolation\n",
    "First, we want to look at how to interpolation the function $D(p)$ based on the points $p_i$ and $d_i$ for $i=1,...,N$."
   ]
  },
  {
   "cell_type": "code",
   "execution_count": 2,
   "metadata": {},
   "outputs": [],
   "source": [
    "# assume points p_i, d_i for i=1,...,N\n",
    "p = np.linspace(1,5,num=9)\n",
    "d = p**(-2.0)"
   ]
  },
  {
   "cell_type": "code",
   "execution_count": 3,
   "metadata": {},
   "outputs": [
    {
     "data": {
      "image/png": "[encoded data removed]",
      "text/plain": [
       "<Figure size 432x288 with 1 Axes>"
      ]
     },
     "metadata": {
      "needs_background": "light"
     },
     "output_type": "display_data"
    }
   ],
   "source": [
    "plt.plot(p, d, 'x');"
   ]
  },
  {
   "cell_type": "code",
   "execution_count": 4,
   "metadata": {},
   "outputs": [],
   "source": [
    "D = scipy.interpolate.interp1d(\n",
    "    p, d, fill_value='extrapolate', kind='linear')"
   ]
  },
  {
   "cell_type": "code",
   "execution_count": 5,
   "metadata": {},
   "outputs": [
    {
     "data": {
      "image/png": "[encoded data removed]",
      "text/plain": [
       "<Figure size 432x288 with 1 Axes>"
      ]
     },
     "metadata": {
      "needs_background": "light"
     },
     "output_type": "display_data"
    }
   ],
   "source": [
    "p_grid = np.linspace(np.min(p), np.max(p))\n",
    "plt.plot(p, d, 'x', label='points $d_i$')\n",
    "plt.plot(p_grid, D(p_grid), label='linear interpolation')\n",
    "plt.legend();"
   ]
  },
  {
   "cell_type": "markdown",
   "metadata": {},
   "source": [
    "## Optimization\n",
    "With the interpolated function at hand, we can compute the profit maximizing function by using a maximization routine.\n",
    "\n",
    "`scipy` only has a minimization function, but no maximization function. There is a simple solution: minimize the negative profit function! That is, solving\n",
    "$$\n",
    "\\max_p (p-c)D(p)\n",
    "$$\n",
    "is equivalent to solving\n",
    "$$\n",
    "\\min_p -(p-c)D(p).\n",
    "$$\n",
    "\n",
    "Assume costs are $c=1.3$."
   ]
  },
  {
   "cell_type": "code",
   "execution_count": 6,
   "metadata": {},
   "outputs": [],
   "source": [
    "c = 1.3\n",
    "solution_profit_max = scipy.optimize.minimize_scalar(lambda p: -(p-c)*D(p), \n",
    "                        method='bounded', bounds=(np.min(p), np.max(p)))"
   ]
  },
  {
   "cell_type": "code",
   "execution_count": 7,
   "metadata": {},
   "outputs": [
    {
     "data": {
      "text/plain": [
       "     fun: -0.19665454545454547\n",
       " message: 'Solution found.'\n",
       "    nfev: 8\n",
       "  status: 0\n",
       " success: True\n",
       "       x: 2.71818181818182"
      ]
     },
     "execution_count": 7,
     "metadata": {},
     "output_type": "execute_result"
    }
   ],
   "source": [
    "solution_profit_max"
   ]
  },
  {
   "cell_type": "code",
   "execution_count": 8,
   "metadata": {},
   "outputs": [
    {
     "name": "stdout",
     "output_type": "stream",
     "text": [
      "the profit maximizing price is 2.71818181818182\n",
      "the maximal profit is 0.19665454545454547\n"
     ]
    }
   ],
   "source": [
    "print(f'the profit maximizing price is {solution_profit_max.x}')\n",
    "print(f'the maximal profit is {-solution_profit_max.fun}')"
   ]
  },
  {
   "cell_type": "code",
   "execution_count": 9,
   "metadata": {},
   "outputs": [
    {
     "data": {
      "image/png": "[encoded data removed]",
      "text/plain": [
       "<Figure size 432x288 with 1 Axes>"
      ]
     },
     "metadata": {
      "needs_background": "light"
     },
     "output_type": "display_data"
    }
   ],
   "source": [
    "plt.plot(p_grid, (p_grid-c)*D(p_grid), label='profit function')\n",
    "plt.plot(solution_profit_max.x, -solution_profit_max.fun, 'x', label='maximum')\n",
    "plt.xlabel('price')\n",
    "plt.ylabel('profit')\n",
    "plt.legend();"
   ]
  },
  {
   "cell_type": "markdown",
   "metadata": {},
   "source": [
    "## Solving First-Order Condition\n",
    "An alternative approach to maximization is to solve the first order condition. The first-order condition of the above profit maximization problem is\n",
    "$$\n",
    "p + \\frac{D(p)}{D'(p)} - c = 0\n",
    "$$\n",
    "Assume that the monopolist knows not only the demand at some points \n",
    "$$\n",
    "d_i = D(p_i)\n",
    "$$\n",
    "but also its derivative\n",
    "$$\n",
    "e_i = D'(p_i)\n",
    "$$\n",
    "for points $i=1,...,N$."
   ]
  },
  {
   "cell_type": "code",
   "execution_count": 10,
   "metadata": {},
   "outputs": [],
   "source": [
    "# assume points p_i, e_i for i=1,...,N\n",
    "e = -2*p**(-3.0)"
   ]
  },
  {
   "cell_type": "code",
   "execution_count": 11,
   "metadata": {},
   "outputs": [
    {
     "data": {
      "image/png": "[encoded data removed]",
      "text/plain": [
       "<Figure size 432x288 with 1 Axes>"
      ]
     },
     "metadata": {
      "needs_background": "light"
     },
     "output_type": "display_data"
    }
   ],
   "source": [
    "plt.plot(p, e, 'x');"
   ]
  },
  {
   "cell_type": "code",
   "execution_count": 12,
   "metadata": {},
   "outputs": [],
   "source": [
    "D_prime = scipy.interpolate.interp1d(\n",
    "    p, e, fill_value='extrapolate', kind='linear')"
   ]
  },
  {
   "cell_type": "code",
   "execution_count": 13,
   "metadata": {},
   "outputs": [
    {
     "data": {
      "image/png": "[encoded data removed]",
      "text/plain": [
       "<Figure size 432x288 with 1 Axes>"
      ]
     },
     "metadata": {
      "needs_background": "light"
     },
     "output_type": "display_data"
    }
   ],
   "source": [
    "p_grid = np.linspace(np.min(p), np.max(p))\n",
    "plt.plot(p, e, 'x', label='points $e_i$')\n",
    "plt.plot(p_grid, D_prime(p_grid), label='linear interpolation')\n",
    "plt.legend();"
   ]
  },
  {
   "cell_type": "code",
   "execution_count": 14,
   "metadata": {},
   "outputs": [
    {
     "data": {
      "image/png": "[encoded data removed]",
      "text/plain": [
       "<Figure size 432x288 with 1 Axes>"
      ]
     },
     "metadata": {
      "needs_background": "light"
     },
     "output_type": "display_data"
    }
   ],
   "source": [
    "# plot first-order condition\n",
    "plt.plot(p_grid, p_grid + D(p_grid)/D_prime(p_grid), label=\"$p+D(p)/D'(p)$\")\n",
    "plt.plot([p_grid[0],p_grid[-1]], [c, c], label='$c$')\n",
    "plt.legend();"
   ]
  },
  {
   "cell_type": "code",
   "execution_count": 15,
   "metadata": {},
   "outputs": [],
   "source": [
    "solution_foc = scipy.optimize.fsolve(lambda p: p+D(p)/D_prime(p)-c, x0=p_grid.mean())\n",
    "p_star = solution_foc[0]"
   ]
  },
  {
   "cell_type": "code",
   "execution_count": 16,
   "metadata": {},
   "outputs": [
    {
     "data": {
      "image/png": "[encoded data removed]",
      "text/plain": [
       "<Figure size 432x288 with 1 Axes>"
      ]
     },
     "metadata": {
      "needs_background": "light"
     },
     "output_type": "display_data"
    }
   ],
   "source": [
    "# plot first-order condition\n",
    "plt.plot(p_grid, p_grid + D(p_grid)/D_prime(p_grid), label=\"$p+D(p)/D'(p)$\")\n",
    "plt.plot([p_grid[0],p_grid[-1]], [c, c], label='$c$')\n",
    "plt.plot(p_star, p_star + D(p_star)/D_prime(p_star), 'x', label='solution')\n",
    "plt.legend();"
   ]
  },
  {
   "cell_type": "code",
   "execution_count": 17,
   "metadata": {},
   "outputs": [
    {
     "name": "stdout",
     "output_type": "stream",
     "text": [
      "optimal price: 2.572266151183606\n"
     ]
    }
   ],
   "source": [
    "print(f'optimal price: {p_star}')"
   ]
  },
  {
   "cell_type": "markdown",
   "metadata": {},
   "source": [
    "## Exercise\n",
    "Consider a risk-averse consumer with utility function $U(x)$ who has an initial wealth $W$. With probability 50% he has an accident and loss $L$. He can buy an insurance for a premium $\\pi$, in case there is an accident, the insurance pays him $2\\pi$. Formally, his profit maximization problem is\n",
    "$$\n",
    "\\max_\\pi \\frac{1}{2} U(W-L+\\pi) + \\frac{1}{2} U(W-\\pi)\n",
    "$$\n",
    "Assume $W=100$, $L=20$. We know the utility function for $N$ points:\n",
    "$$\n",
    "v_i = U(x_i)\n",
    "$$\n",
    "for $i=1,...,N$."
   ]
  },
  {
   "cell_type": "code",
   "execution_count": 18,
   "metadata": {},
   "outputs": [],
   "source": [
    "x = np.linspace(1, 100, num=50)\n",
    "v = np.log(x)"
   ]
  },
  {
   "cell_type": "code",
   "execution_count": 19,
   "metadata": {},
   "outputs": [],
   "source": [
    "W=100\n",
    "L=20"
   ]
  },
  {
   "cell_type": "markdown",
   "metadata": {},
   "source": [
    "Use points $x_i$ and $v_i$ for $i=1,...,N$ to interpolate function $U$. Plot the interpolated function."
   ]
  },
  {
   "cell_type": "code",
   "execution_count": 20,
   "metadata": {},
   "outputs": [],
   "source": [
    "U = scipy.interpolate.interp1d(\n",
    "    x, v, fill_value='extrapolate', kind='linear')"
   ]
  },
  {
   "cell_type": "code",
   "execution_count": 21,
   "metadata": {},
   "outputs": [
    {
     "data": {
      "image/png": "[encoded data removed]",
      "text/plain": [
       "<Figure size 432x288 with 1 Axes>"
      ]
     },
     "metadata": {
      "needs_background": "light"
     },
     "output_type": "display_data"
    }
   ],
   "source": [
    "x_grid = np.linspace(np.min(x), np.max(x))\n",
    "plt.plot(x_grid, U(x_grid))\n",
    "plt.plot(x, v, 'x')\n",
    "plt.xlabel('$x$')\n",
    "plt.ylabel('$U(x)$');"
   ]
  },
  {
   "cell_type": "markdown",
   "metadata": {},
   "source": [
    "Use the interpolated function to solve the consumer's utility maximization problem."
   ]
  },
  {
   "cell_type": "code",
   "execution_count": 22,
   "metadata": {},
   "outputs": [],
   "source": [
    "solution_utility_max = scipy.optimize.minimize_scalar(\n",
    "    lambda pi: -0.5*U(W-L+pi) - 0.5*U(W-pi), \n",
    "    method='bounded', bounds=(np.min(x), np.max(x)))"
   ]
  },
  {
   "cell_type": "code",
   "execution_count": 23,
   "metadata": {},
   "outputs": [
    {
     "data": {
      "text/plain": [
       "     fun: -4.499797746898505\n",
       " message: 'Solution found.'\n",
       "    nfev: 28\n",
       "  status: 0\n",
       " success: True\n",
       "       x: 10.019086673397828"
      ]
     },
     "execution_count": 23,
     "metadata": {},
     "output_type": "execute_result"
    }
   ],
   "source": [
    "solution_utility_max"
   ]
  },
  {
   "cell_type": "code",
   "execution_count": 24,
   "metadata": {},
   "outputs": [
    {
     "name": "stdout",
     "output_type": "stream",
     "text": [
      "The optimal insurance is π = 10.02\n",
      "The implied utility is 4.5.\n"
     ]
    }
   ],
   "source": [
    "print(f'The optimal insurance is π = {solution_utility_max.x:.4}')\n",
    "print(f'The implied utility is {-solution_utility_max.fun:.4}.')"
   ]
  },
  {
   "cell_type": "markdown",
   "metadata": {},
   "source": [
    "Assume that we also know the derivative of the utility function at $N$ points:\n",
    "$$\n",
    "w_i = U'(x_i)\n",
    "$$\n",
    "for $i=1,...,N$."
   ]
  },
  {
   "cell_type": "code",
   "execution_count": 25,
   "metadata": {},
   "outputs": [],
   "source": [
    "w = 1/x"
   ]
  },
  {
   "cell_type": "markdown",
   "metadata": {},
   "source": [
    "Use points $w_i$ for $i=1,...,N$ to interpolate the function $U'$. Solve the consumer's utility maximization problem by solving the first-order condition for the optimal $\\pi$."
   ]
  },
  {
   "cell_type": "code",
   "execution_count": 26,
   "metadata": {},
   "outputs": [],
   "source": [
    "U_prime = scipy.interpolate.interp1d(\n",
    "    x, w, fill_value='extrapolate', kind='linear')"
   ]
  },
  {
   "cell_type": "code",
   "execution_count": 27,
   "metadata": {},
   "outputs": [],
   "source": [
    "pi_grid = np.linspace(np.min(x), np.max(x))\n",
    "solution_utility_foc = scipy.optimize.fsolve(\n",
    "    lambda pi: -0.5*U_prime(W-L+pi) + 0.5*U_prime(W-pi), x0=pi_grid.mean())\n",
    "pi_star = solution_utility_foc[0]"
   ]
  },
  {
   "cell_type": "code",
   "execution_count": 28,
   "metadata": {},
   "outputs": [
    {
     "name": "stdout",
     "output_type": "stream",
     "text": [
      "the solution of the first-order condition is 10.0\n"
     ]
    }
   ],
   "source": [
    "print(f'the solution of the first-order condition is {pi_star:.4}')"
   ]
  },
  {
   "cell_type": "code",
   "execution_count": null,
   "metadata": {},
   "outputs": [],
   "source": []
  }
 ],
 "metadata": {
  "kernelspec": {
   "display_name": "Python 3",
   "language": "python",
   "name": "python3"
  },
  "language_info": {
   "codemirror_mode": {
    "name": "ipython",
    "version": 3
   },
   "file_extension": ".py",
   "mimetype": "text/x-python",
   "name": "python",
   "nbconvert_exporter": "python",
   "pygments_lexer": "ipython3",
   "version": "3.8.8"
  }
 },
 "nbformat": 4,
 "nbformat_minor": 4
}
